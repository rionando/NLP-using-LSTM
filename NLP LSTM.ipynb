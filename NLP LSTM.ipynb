{
  "nbformat": 4,
  "nbformat_minor": 0,
  "metadata": {
    "colab": {
      "name": "Untitled14 (1).ipynb",
      "provenance": [],
      "collapsed_sections": []
    },
    "kernelspec": {
      "name": "python3",
      "display_name": "Python 3"
    },
    "language_info": {
      "name": "python"
    },
    "accelerator": "GPU"
  },
  "cells": [
    {
      "cell_type": "markdown",
      "metadata": {
        "id": "LlKYmq8chKl8"
      },
      "source": [
        "Muhammad Rionando D"
      ]
    },
    {
      "cell_type": "code",
      "metadata": {
        "id": "6V_JJdzae8kw"
      },
      "source": [
        "from google.colab import drive\n",
        "import pandas as pd\n",
        "import re\n",
        "from sklearn.model_selection import train_test_split\n",
        "import tensorflow as tf\n",
        "from tensorflow.keras.models import Sequential\n",
        "from tensorflow.keras.preprocessing.text import Tokenizer\n",
        "from tensorflow.keras.preprocessing.sequence import pad_sequences\n",
        "from tensorflow.keras.preprocessing.sequence import pad_sequences\n",
        "from tensorflow.keras.optimizers import Adam\n",
        "import matplotlib.pyplot as plt\n",
        "import numpy as np \n",
        "import seaborn as sns"
      ],
      "execution_count": 3,
      "outputs": []
    },
    {
      "cell_type": "code",
      "metadata": {
        "colab": {
          "base_uri": "https://localhost:8080/"
        },
        "id": "P2u8Gij1hQ-g",
        "outputId": "065f49b7-459d-41d6-81b1-773c97f12034"
      },
      "source": [
        "drive.mount('/content/drive/')"
      ],
      "execution_count": 4,
      "outputs": [
        {
          "output_type": "stream",
          "name": "stdout",
          "text": [
            "Drive already mounted at /content/drive/; to attempt to forcibly remount, call drive.mount(\"/content/drive/\", force_remount=True).\n"
          ]
        }
      ]
    },
    {
      "cell_type": "code",
      "metadata": {
        "colab": {
          "base_uri": "https://localhost:8080/",
          "height": 206
        },
        "id": "_OIdpDpNhlif",
        "outputId": "c539ef1a-6d29-42f1-de59-b79269b555ad"
      },
      "source": [
        "df = pd.read_csv(\"/content/drive/My Drive/dataset/bbc-text.csv\")\n",
        "df.head()"
      ],
      "execution_count": 5,
      "outputs": [
        {
          "output_type": "execute_result",
          "data": {
            "text/html": [
              "<div>\n",
              "<style scoped>\n",
              "    .dataframe tbody tr th:only-of-type {\n",
              "        vertical-align: middle;\n",
              "    }\n",
              "\n",
              "    .dataframe tbody tr th {\n",
              "        vertical-align: top;\n",
              "    }\n",
              "\n",
              "    .dataframe thead th {\n",
              "        text-align: right;\n",
              "    }\n",
              "</style>\n",
              "<table border=\"1\" class=\"dataframe\">\n",
              "  <thead>\n",
              "    <tr style=\"text-align: right;\">\n",
              "      <th></th>\n",
              "      <th>category</th>\n",
              "      <th>text</th>\n",
              "    </tr>\n",
              "  </thead>\n",
              "  <tbody>\n",
              "    <tr>\n",
              "      <th>0</th>\n",
              "      <td>tech</td>\n",
              "      <td>tv future in the hands of viewers with home th...</td>\n",
              "    </tr>\n",
              "    <tr>\n",
              "      <th>1</th>\n",
              "      <td>business</td>\n",
              "      <td>worldcom boss  left books alone  former worldc...</td>\n",
              "    </tr>\n",
              "    <tr>\n",
              "      <th>2</th>\n",
              "      <td>sport</td>\n",
              "      <td>tigers wary of farrell  gamble  leicester say ...</td>\n",
              "    </tr>\n",
              "    <tr>\n",
              "      <th>3</th>\n",
              "      <td>sport</td>\n",
              "      <td>yeading face newcastle in fa cup premiership s...</td>\n",
              "    </tr>\n",
              "    <tr>\n",
              "      <th>4</th>\n",
              "      <td>entertainment</td>\n",
              "      <td>ocean s twelve raids box office ocean s twelve...</td>\n",
              "    </tr>\n",
              "  </tbody>\n",
              "</table>\n",
              "</div>"
            ],
            "text/plain": [
              "        category                                               text\n",
              "0           tech  tv future in the hands of viewers with home th...\n",
              "1       business  worldcom boss  left books alone  former worldc...\n",
              "2          sport  tigers wary of farrell  gamble  leicester say ...\n",
              "3          sport  yeading face newcastle in fa cup premiership s...\n",
              "4  entertainment  ocean s twelve raids box office ocean s twelve..."
            ]
          },
          "metadata": {},
          "execution_count": 5
        }
      ]
    },
    {
      "cell_type": "code",
      "metadata": {
        "colab": {
          "base_uri": "https://localhost:8080/"
        },
        "id": "tXxmLjrQidZa",
        "outputId": "6c4393ea-d0ee-4d1d-a5a4-cd4424f5c2ed"
      },
      "source": [
        "df.columns"
      ],
      "execution_count": 6,
      "outputs": [
        {
          "output_type": "execute_result",
          "data": {
            "text/plain": [
              "Index(['category', 'text'], dtype='object')"
            ]
          },
          "metadata": {},
          "execution_count": 6
        }
      ]
    },
    {
      "cell_type": "code",
      "metadata": {
        "colab": {
          "base_uri": "https://localhost:8080/"
        },
        "id": "uP-bMSL6iiw_",
        "outputId": "d5fe4368-e1c2-4081-beed-7d7a4861213b"
      },
      "source": [
        "df.shape"
      ],
      "execution_count": 7,
      "outputs": [
        {
          "output_type": "execute_result",
          "data": {
            "text/plain": [
              "(2225, 2)"
            ]
          },
          "metadata": {},
          "execution_count": 7
        }
      ]
    },
    {
      "cell_type": "code",
      "metadata": {
        "colab": {
          "base_uri": "https://localhost:8080/"
        },
        "id": "i0gnoSmaivpr",
        "outputId": "a9df33bd-7b29-4602-b424-3b16a99baee5"
      },
      "source": [
        "df['category'].value_counts()"
      ],
      "execution_count": 8,
      "outputs": [
        {
          "output_type": "execute_result",
          "data": {
            "text/plain": [
              "sport            511\n",
              "business         510\n",
              "politics         417\n",
              "tech             401\n",
              "entertainment    386\n",
              "Name: category, dtype: int64"
            ]
          },
          "metadata": {},
          "execution_count": 8
        }
      ]
    },
    {
      "cell_type": "code",
      "metadata": {
        "colab": {
          "base_uri": "https://localhost:8080/",
          "height": 175
        },
        "id": "4pDxr0PujB2K",
        "outputId": "e5c0beb0-2079-4549-bd2b-828b0b5ce511"
      },
      "source": [
        "df.describe()"
      ],
      "execution_count": 9,
      "outputs": [
        {
          "output_type": "execute_result",
          "data": {
            "text/html": [
              "<div>\n",
              "<style scoped>\n",
              "    .dataframe tbody tr th:only-of-type {\n",
              "        vertical-align: middle;\n",
              "    }\n",
              "\n",
              "    .dataframe tbody tr th {\n",
              "        vertical-align: top;\n",
              "    }\n",
              "\n",
              "    .dataframe thead th {\n",
              "        text-align: right;\n",
              "    }\n",
              "</style>\n",
              "<table border=\"1\" class=\"dataframe\">\n",
              "  <thead>\n",
              "    <tr style=\"text-align: right;\">\n",
              "      <th></th>\n",
              "      <th>category</th>\n",
              "      <th>text</th>\n",
              "    </tr>\n",
              "  </thead>\n",
              "  <tbody>\n",
              "    <tr>\n",
              "      <th>count</th>\n",
              "      <td>2225</td>\n",
              "      <td>2225</td>\n",
              "    </tr>\n",
              "    <tr>\n",
              "      <th>unique</th>\n",
              "      <td>5</td>\n",
              "      <td>2126</td>\n",
              "    </tr>\n",
              "    <tr>\n",
              "      <th>top</th>\n",
              "      <td>sport</td>\n",
              "      <td>ferguson rues failure to cut gap boss sir alex...</td>\n",
              "    </tr>\n",
              "    <tr>\n",
              "      <th>freq</th>\n",
              "      <td>511</td>\n",
              "      <td>2</td>\n",
              "    </tr>\n",
              "  </tbody>\n",
              "</table>\n",
              "</div>"
            ],
            "text/plain": [
              "       category                                               text\n",
              "count      2225                                               2225\n",
              "unique        5                                               2126\n",
              "top       sport  ferguson rues failure to cut gap boss sir alex...\n",
              "freq        511                                                  2"
            ]
          },
          "metadata": {},
          "execution_count": 9
        }
      ]
    },
    {
      "cell_type": "code",
      "metadata": {
        "colab": {
          "base_uri": "https://localhost:8080/"
        },
        "id": "7lhFM7mojjlW",
        "outputId": "733e57ca-1a7b-4eaa-8ed7-2f563a75aa64"
      },
      "source": [
        "df.dtypes"
      ],
      "execution_count": 10,
      "outputs": [
        {
          "output_type": "execute_result",
          "data": {
            "text/plain": [
              "category    object\n",
              "text        object\n",
              "dtype: object"
            ]
          },
          "metadata": {},
          "execution_count": 10
        }
      ]
    },
    {
      "cell_type": "code",
      "metadata": {
        "colab": {
          "base_uri": "https://localhost:8080/",
          "height": 353
        },
        "id": "yeWQ-Cy-jtMJ",
        "outputId": "d9cfad6f-abda-4634-a3c4-80fa86ce9a87"
      },
      "source": [
        "sns.countplot(df['category'])"
      ],
      "execution_count": 11,
      "outputs": [
        {
          "output_type": "stream",
          "name": "stderr",
          "text": [
            "/usr/local/lib/python3.7/dist-packages/seaborn/_decorators.py:43: FutureWarning: Pass the following variable as a keyword arg: x. From version 0.12, the only valid positional argument will be `data`, and passing other arguments without an explicit keyword will result in an error or misinterpretation.\n",
            "  FutureWarning\n"
          ]
        },
        {
          "output_type": "execute_result",
          "data": {
            "text/plain": [
              "<matplotlib.axes._subplots.AxesSubplot at 0x7f5815b1dcd0>"
            ]
          },
          "metadata": {},
          "execution_count": 11
        },
        {
          "output_type": "display_data",
          "data": {
            "image/png": "[encoded data removed]",
            "text/plain": [
              "<Figure size 432x288 with 1 Axes>"
            ]
          },
          "metadata": {
            "needs_background": "light"
          }
        }
      ]
    },
    {
      "cell_type": "code",
      "metadata": {
        "colab": {
          "base_uri": "https://localhost:8080/",
          "height": 127
        },
        "id": "vEVflmhpjlrb",
        "outputId": "770e629f-9cd4-4109-bb1c-7a1c2e69598e"
      },
      "source": [
        "df['text'][10]"
      ],
      "execution_count": 12,
      "outputs": [
        {
          "output_type": "execute_result",
          "data": {
            "application/vnd.google.colaboratory.intrinsic+json": {
              "type": "string"
            },
            "text/plain": [
              "'berlin cheers for anti-nazi film a german movie about an anti-nazi resistance heroine has drawn loud applause at berlin film festival.  sophie scholl - the final days portrays the final days of the member of the white rose movement. scholl  21  was arrested and beheaded with her brother  hans  in 1943 for distributing leaflets condemning the  abhorrent tyranny  of adolf hitler. director marc rothemund said:  i have a feeling of responsibility to keep the legacy of the scholls going.   we must somehow keep their ideas alive   he added.  the film drew on transcripts of gestapo interrogations and scholl s trial preserved in the archive of communist east germany s secret police. their discovery was the inspiration behind the film for rothemund  who worked closely with surviving relatives  including one of scholl s sisters  to ensure historical accuracy on the film. scholl and other members of the white rose resistance group first started distributing anti-nazi leaflets in the summer of 1942. they were arrested as they dropped leaflets at munich university calling for a  day of reckoning  with adolf hitler s regime. the film focuses on the six days from scholl s arrest to the intense trial which saw scholl initially deny the charges and ended with a defiant appearance. it is one of three german films vying for a top prize at the festival.  a south african film version of bizet s tragic opera carmen shot in cape town in the xhosa language has also premiered at the berlin festival. the film is entitled u-carmen ekhayelitsha or carmen in khayelitsha after the township in which the story is set. it is performed by a 40-strong music and theatre troupe in their debut film performance. the film is the first south african feature in 25 years and only the second to be nominated for a golden bear award.'"
            ]
          },
          "metadata": {},
          "execution_count": 12
        }
      ]
    },
    {
      "cell_type": "code",
      "metadata": {
        "colab": {
          "base_uri": "https://localhost:8080/"
        },
        "id": "kFAPpiJokaBG",
        "outputId": "977c626f-6cb9-4988-ffcf-4b05408e7d74"
      },
      "source": [
        "df.isnull().sum()"
      ],
      "execution_count": 13,
      "outputs": [
        {
          "output_type": "execute_result",
          "data": {
            "text/plain": [
              "category    0\n",
              "text        0\n",
              "dtype: int64"
            ]
          },
          "metadata": {},
          "execution_count": 13
        }
      ]
    },
    {
      "cell_type": "code",
      "metadata": {
        "colab": {
          "base_uri": "https://localhost:8080/"
        },
        "id": "z5TgaXTnldYp",
        "outputId": "928d8613-c8ec-40de-dbef-152c6116b867"
      },
      "source": [
        "# import and download package\n",
        "import nltk, os, re, string\n",
        "\n",
        "from keras.layers import Input, LSTM, Bidirectional, SpatialDropout1D, Dropout, Flatten, Dense, Embedding, BatchNormalization\n",
        "from keras.models import Model\n",
        "from keras.callbacks import EarlyStopping\n",
        "from keras.preprocessing.text import Tokenizer, text_to_word_sequence\n",
        "from keras.preprocessing.sequence import pad_sequences\n",
        "from nltk.corpus import stopwords\n",
        "from nltk.stem import WordNetLemmatizer\n",
        "from nltk.corpus import wordnet as wn\n",
        "\n",
        "nltk.download('wordnet')\n",
        "nltk.download('stopwords')"
      ],
      "execution_count": 14,
      "outputs": [
        {
          "output_type": "stream",
          "name": "stdout",
          "text": [
            "[nltk_data] Downloading package wordnet to /root/nltk_data...\n",
            "[nltk_data]   Unzipping corpora/wordnet.zip.\n",
            "[nltk_data] Downloading package stopwords to /root/nltk_data...\n",
            "[nltk_data]   Unzipping corpora/stopwords.zip.\n"
          ]
        },
        {
          "output_type": "execute_result",
          "data": {
            "text/plain": [
              "True"
            ]
          },
          "metadata": {},
          "execution_count": 14
        }
      ]
    },
    {
      "cell_type": "code",
      "metadata": {
        "id": "MbkYEqihlivs"
      },
      "source": [
        "def cleaner(data):\n",
        "    return(data.translate(str.maketrans('','', string.punctuation)))\n",
        "    df_new.title = df_new.title.apply(lambda x: cleaner(x))\n",
        "    df_new.content = df_new.content.apply(lambda x: lem(x))\n",
        "\n",
        "lemmatizer = WordNetLemmatizer()\n",
        "\n",
        "def lem(data):\n",
        "    pos_dict = {'N': wn.NOUN, 'V': wn.VERB, 'J': wn.ADJ, 'R': wn.ADV}\n",
        "    return(' '.join([lemmatizer.lemmatize(w,pos_dict.get(t, wn.NOUN)) for w,t in nltk.pos_tag(data.split())]))\n",
        "    df_new.title = df_new.title.apply(lambda x: lem(x))\n",
        "    df_new.content = df_new.content.apply(lambda x: lem(x))\n",
        "\n",
        "def rem_numbers(data):\n",
        "    return re.sub('[0-9]+','',data)\n",
        "    df_new['title'].apply(rem_numbers)\n",
        "    df_new['content'].apply(rem_numbers)\n",
        "\n",
        "st_words = stopwords.words()\n",
        "def stopword(data):\n",
        "    return(' '.join([w for w in data.split() if w not in st_words ]))\n",
        "    df_new.title = df_new.title.apply(lambda x: stopword(x))\n",
        "    df_new.content = df_new.content.apply(lambda x: lem(x))"
      ],
      "execution_count": 15,
      "outputs": []
    },
    {
      "cell_type": "code",
      "metadata": {
        "colab": {
          "base_uri": "https://localhost:8080/",
          "height": 127
        },
        "id": "XYz9eUOVmM_0",
        "outputId": "08723f00-bfe9-48ea-fe6e-9c6a2148cc07"
      },
      "source": [
        "df['text'][10]\n"
      ],
      "execution_count": 16,
      "outputs": [
        {
          "output_type": "execute_result",
          "data": {
            "application/vnd.google.colaboratory.intrinsic+json": {
              "type": "string"
            },
            "text/plain": [
              "'berlin cheers for anti-nazi film a german movie about an anti-nazi resistance heroine has drawn loud applause at berlin film festival.  sophie scholl - the final days portrays the final days of the member of the white rose movement. scholl  21  was arrested and beheaded with her brother  hans  in 1943 for distributing leaflets condemning the  abhorrent tyranny  of adolf hitler. director marc rothemund said:  i have a feeling of responsibility to keep the legacy of the scholls going.   we must somehow keep their ideas alive   he added.  the film drew on transcripts of gestapo interrogations and scholl s trial preserved in the archive of communist east germany s secret police. their discovery was the inspiration behind the film for rothemund  who worked closely with surviving relatives  including one of scholl s sisters  to ensure historical accuracy on the film. scholl and other members of the white rose resistance group first started distributing anti-nazi leaflets in the summer of 1942. they were arrested as they dropped leaflets at munich university calling for a  day of reckoning  with adolf hitler s regime. the film focuses on the six days from scholl s arrest to the intense trial which saw scholl initially deny the charges and ended with a defiant appearance. it is one of three german films vying for a top prize at the festival.  a south african film version of bizet s tragic opera carmen shot in cape town in the xhosa language has also premiered at the berlin festival. the film is entitled u-carmen ekhayelitsha or carmen in khayelitsha after the township in which the story is set. it is performed by a 40-strong music and theatre troupe in their debut film performance. the film is the first south african feature in 25 years and only the second to be nominated for a golden bear award.'"
            ]
          },
          "metadata": {},
          "execution_count": 16
        }
      ]
    },
    {
      "cell_type": "code",
      "metadata": {
        "colab": {
          "base_uri": "https://localhost:8080/"
        },
        "id": "sphRy4_Dmi3p",
        "outputId": "72e4c939-1d9e-4b08-88a2-3d7ab26c3c83"
      },
      "source": [
        "df.isnull().values.any()"
      ],
      "execution_count": 17,
      "outputs": [
        {
          "output_type": "execute_result",
          "data": {
            "text/plain": [
              "False"
            ]
          },
          "metadata": {},
          "execution_count": 17
        }
      ]
    },
    {
      "cell_type": "code",
      "metadata": {
        "colab": {
          "base_uri": "https://localhost:8080/",
          "height": 423
        },
        "id": "ufGN_NLjnxOh",
        "outputId": "2b5629e7-18f4-4b93-cc4d-a9360d036b39"
      },
      "source": [
        "category = pd.get_dummies(df.category)\n",
        "df_baru = pd.concat([df, category], axis=1)\n",
        "df_baru = df_baru.drop(columns='category')\n",
        "df_baru"
      ],
      "execution_count": 18,
      "outputs": [
        {
          "output_type": "execute_result",
          "data": {
            "text/html": [
              "<div>\n",
              "<style scoped>\n",
              "    .dataframe tbody tr th:only-of-type {\n",
              "        vertical-align: middle;\n",
              "    }\n",
              "\n",
              "    .dataframe tbody tr th {\n",
              "        vertical-align: top;\n",
              "    }\n",
              "\n",
              "    .dataframe thead th {\n",
              "        text-align: right;\n",
              "    }\n",
              "</style>\n",
              "<table border=\"1\" class=\"dataframe\">\n",
              "  <thead>\n",
              "    <tr style=\"text-align: right;\">\n",
              "      <th></th>\n",
              "      <th>text</th>\n",
              "      <th>business</th>\n",
              "      <th>entertainment</th>\n",
              "      <th>politics</th>\n",
              "      <th>sport</th>\n",
              "      <th>tech</th>\n",
              "    </tr>\n",
              "  </thead>\n",
              "  <tbody>\n",
              "    <tr>\n",
              "      <th>0</th>\n",
              "      <td>tv future in the hands of viewers with home th...</td>\n",
              "      <td>0</td>\n",
              "      <td>0</td>\n",
              "      <td>0</td>\n",
              "      <td>0</td>\n",
              "      <td>1</td>\n",
              "    </tr>\n",
              "    <tr>\n",
              "      <th>1</th>\n",
              "      <td>worldcom boss  left books alone  former worldc...</td>\n",
              "      <td>1</td>\n",
              "      <td>0</td>\n",
              "      <td>0</td>\n",
              "      <td>0</td>\n",
              "      <td>0</td>\n",
              "    </tr>\n",
              "    <tr>\n",
              "      <th>2</th>\n",
              "      <td>tigers wary of farrell  gamble  leicester say ...</td>\n",
              "      <td>0</td>\n",
              "      <td>0</td>\n",
              "      <td>0</td>\n",
              "      <td>1</td>\n",
              "      <td>0</td>\n",
              "    </tr>\n",
              "    <tr>\n",
              "      <th>3</th>\n",
              "      <td>yeading face newcastle in fa cup premiership s...</td>\n",
              "      <td>0</td>\n",
              "      <td>0</td>\n",
              "      <td>0</td>\n",
              "      <td>1</td>\n",
              "      <td>0</td>\n",
              "    </tr>\n",
              "    <tr>\n",
              "      <th>4</th>\n",
              "      <td>ocean s twelve raids box office ocean s twelve...</td>\n",
              "      <td>0</td>\n",
              "      <td>1</td>\n",
              "      <td>0</td>\n",
              "      <td>0</td>\n",
              "      <td>0</td>\n",
              "    </tr>\n",
              "    <tr>\n",
              "      <th>...</th>\n",
              "      <td>...</td>\n",
              "      <td>...</td>\n",
              "      <td>...</td>\n",
              "      <td>...</td>\n",
              "      <td>...</td>\n",
              "      <td>...</td>\n",
              "    </tr>\n",
              "    <tr>\n",
              "      <th>2220</th>\n",
              "      <td>cars pull down us retail figures us retail sal...</td>\n",
              "      <td>1</td>\n",
              "      <td>0</td>\n",
              "      <td>0</td>\n",
              "      <td>0</td>\n",
              "      <td>0</td>\n",
              "    </tr>\n",
              "    <tr>\n",
              "      <th>2221</th>\n",
              "      <td>kilroy unveils immigration policy ex-chatshow ...</td>\n",
              "      <td>0</td>\n",
              "      <td>0</td>\n",
              "      <td>1</td>\n",
              "      <td>0</td>\n",
              "      <td>0</td>\n",
              "    </tr>\n",
              "    <tr>\n",
              "      <th>2222</th>\n",
              "      <td>rem announce new glasgow concert us band rem h...</td>\n",
              "      <td>0</td>\n",
              "      <td>1</td>\n",
              "      <td>0</td>\n",
              "      <td>0</td>\n",
              "      <td>0</td>\n",
              "    </tr>\n",
              "    <tr>\n",
              "      <th>2223</th>\n",
              "      <td>how political squabbles snowball it s become c...</td>\n",
              "      <td>0</td>\n",
              "      <td>0</td>\n",
              "      <td>1</td>\n",
              "      <td>0</td>\n",
              "      <td>0</td>\n",
              "    </tr>\n",
              "    <tr>\n",
              "      <th>2224</th>\n",
              "      <td>souness delight at euro progress boss graeme s...</td>\n",
              "      <td>0</td>\n",
              "      <td>0</td>\n",
              "      <td>0</td>\n",
              "      <td>1</td>\n",
              "      <td>0</td>\n",
              "    </tr>\n",
              "  </tbody>\n",
              "</table>\n",
              "<p>2225 rows × 6 columns</p>\n",
              "</div>"
            ],
            "text/plain": [
              "                                                   text  business  ...  sport  tech\n",
              "0     tv future in the hands of viewers with home th...         0  ...      0     1\n",
              "1     worldcom boss  left books alone  former worldc...         1  ...      0     0\n",
              "2     tigers wary of farrell  gamble  leicester say ...         0  ...      1     0\n",
              "3     yeading face newcastle in fa cup premiership s...         0  ...      1     0\n",
              "4     ocean s twelve raids box office ocean s twelve...         0  ...      0     0\n",
              "...                                                 ...       ...  ...    ...   ...\n",
              "2220  cars pull down us retail figures us retail sal...         1  ...      0     0\n",
              "2221  kilroy unveils immigration policy ex-chatshow ...         0  ...      0     0\n",
              "2222  rem announce new glasgow concert us band rem h...         0  ...      0     0\n",
              "2223  how political squabbles snowball it s become c...         0  ...      0     0\n",
              "2224  souness delight at euro progress boss graeme s...         0  ...      1     0\n",
              "\n",
              "[2225 rows x 6 columns]"
            ]
          },
          "metadata": {},
          "execution_count": 18
        }
      ]
    },
    {
      "cell_type": "code",
      "metadata": {
        "id": "6Zdbx0MEoz9j"
      },
      "source": [
        "text = df_baru['text'].astype(str)\n",
        "label = df_baru[['business', 'entertainment', 'politics', 'sport', 'tech']].values"
      ],
      "execution_count": 19,
      "outputs": []
    },
    {
      "cell_type": "code",
      "metadata": {
        "id": "pnmClsFZrBAZ",
        "colab": {
          "base_uri": "https://localhost:8080/"
        },
        "outputId": "23fdb76c-3514-49c3-8e6b-c90d87562d60"
      },
      "source": [
        "label"
      ],
      "execution_count": 20,
      "outputs": [
        {
          "output_type": "execute_result",
          "data": {
            "text/plain": [
              "array([[0, 0, 0, 0, 1],\n",
              "       [1, 0, 0, 0, 0],\n",
              "       [0, 0, 0, 1, 0],\n",
              "       ...,\n",
              "       [0, 1, 0, 0, 0],\n",
              "       [0, 0, 1, 0, 0],\n",
              "       [0, 0, 0, 1, 0]], dtype=uint8)"
            ]
          },
          "metadata": {},
          "execution_count": 20
        }
      ]
    },
    {
      "cell_type": "code",
      "metadata": {
        "id": "YQdCXIa_rIDC"
      },
      "source": [
        "from sklearn.model_selection import train_test_split\n",
        "text_train, text_test, label_train, label_test = train_test_split(text, label, test_size=0.2, shuffle=True)"
      ],
      "execution_count": 21,
      "outputs": []
    },
    {
      "cell_type": "code",
      "metadata": {
        "id": "PFTyZjACrYZy"
      },
      "source": [
        "from tensorflow.keras.preprocessing.text import Tokenizer\n",
        "from tensorflow.keras.preprocessing.sequence import pad_sequences\n",
        " \n",
        "tokenizer = Tokenizer(num_words=5000, oov_token='x', filters='!\"#$%&()*+,-./:;<=>@[\\]^_`{|}~ ')\n",
        "tokenizer.fit_on_texts(text_train) \n",
        "tokenizer.fit_on_texts(text_test)\n",
        " \n",
        "sekuens_train = tokenizer.texts_to_sequences(text_train)\n",
        "sekuens_test = tokenizer.texts_to_sequences(text_test)\n",
        " \n",
        "padded_train = pad_sequences(sekuens_train) \n",
        "padded_test = pad_sequences(sekuens_test)"
      ],
      "execution_count": 22,
      "outputs": []
    },
    {
      "cell_type": "code",
      "metadata": {
        "id": "sGvlKwWe-IF0"
      },
      "source": [
        "model = tf.keras.Sequential([\n",
        "    tf.keras.layers.Embedding(input_dim=5000, output_dim=64),\n",
        "    tf.keras.layers.LSTM(128),\n",
        "    tf.keras.layers.Dense(128, activation='relu'),\n",
        "    tf.keras.layers.Dropout(0.5),\n",
        "    tf.keras.layers.Dense(5, activation='softmax')\n",
        "])"
      ],
      "execution_count": 23,
      "outputs": []
    },
    {
      "cell_type": "code",
      "metadata": {
        "colab": {
          "base_uri": "https://localhost:8080/"
        },
        "id": "VMdFUnVzVtPs",
        "outputId": "e848b51f-55ce-4769-bb57-5dbce7362427"
      },
      "source": [
        "model.compile(optimizer='adam', metrics=['accuracy'], loss='categorical_crossentropy',)\n",
        "model.summary()"
      ],
      "execution_count": 24,
      "outputs": [
        {
          "output_type": "stream",
          "name": "stdout",
          "text": [
            "Model: \"sequential\"\n",
            "_________________________________________________________________\n",
            "Layer (type)                 Output Shape              Param #   \n",
            "=================================================================\n",
            "embedding (Embedding)        (None, None, 64)          320000    \n",
            "_________________________________________________________________\n",
            "lstm (LSTM)                  (None, 128)               98816     \n",
            "_________________________________________________________________\n",
            "dense (Dense)                (None, 128)               16512     \n",
            "_________________________________________________________________\n",
            "dropout (Dropout)            (None, 128)               0         \n",
            "_________________________________________________________________\n",
            "dense_1 (Dense)              (None, 5)                 645       \n",
            "=================================================================\n",
            "Total params: 435,973\n",
            "Trainable params: 435,973\n",
            "Non-trainable params: 0\n",
            "_________________________________________________________________\n"
          ]
        }
      ]
    },
    {
      "cell_type": "code",
      "metadata": {
        "id": "EQnuN6V3VyqW"
      },
      "source": [
        "class myCallback(tf.keras.callbacks.Callback):\n",
        "  def on_epoch_end(self, epoch, logs={}):\n",
        "    if(logs.get('accuracy')>0.9 and logs.get('val_accuracy')>0.9):\n",
        "      self.model.stop_training = True\n",
        "      print(\"\\nThe accuracy of the training set and the validation set has reached > 90%!\")\n",
        "callbacks = myCallback()"
      ],
      "execution_count": 25,
      "outputs": []
    },
    {
      "cell_type": "code",
      "metadata": {
        "colab": {
          "base_uri": "https://localhost:8080/"
        },
        "id": "aIlSG1XcdQxl",
        "outputId": "0c7fdddc-851a-48a0-fd3b-09094e871d4c"
      },
      "source": [
        "num_epochs = 50\n",
        "history = model.fit(padded_train, label_train, epochs=num_epochs, validation_data=(padded_test, label_test), verbose=2, callbacks=[callbacks])"
      ],
      "execution_count": 26,
      "outputs": [
        {
          "output_type": "stream",
          "name": "stdout",
          "text": [
            "Epoch 1/50\n",
            "56/56 - 42s - loss: 1.6061 - accuracy: 0.2421 - val_loss: 1.5273 - val_accuracy: 0.4382\n",
            "Epoch 2/50\n",
            "56/56 - 34s - loss: 1.3917 - accuracy: 0.3837 - val_loss: 1.1442 - val_accuracy: 0.4112\n",
            "Epoch 3/50\n",
            "56/56 - 35s - loss: 1.0567 - accuracy: 0.5410 - val_loss: 0.9685 - val_accuracy: 0.5573\n",
            "Epoch 4/50\n",
            "56/56 - 35s - loss: 0.9090 - accuracy: 0.6506 - val_loss: 1.1610 - val_accuracy: 0.5191\n",
            "Epoch 5/50\n",
            "56/56 - 34s - loss: 0.6173 - accuracy: 0.8017 - val_loss: 1.0393 - val_accuracy: 0.5910\n",
            "Epoch 6/50\n",
            "56/56 - 34s - loss: 0.2987 - accuracy: 0.9034 - val_loss: 0.5966 - val_accuracy: 0.7955\n",
            "Epoch 7/50\n",
            "56/56 - 34s - loss: 0.1532 - accuracy: 0.9584 - val_loss: 1.0996 - val_accuracy: 0.6494\n",
            "Epoch 8/50\n",
            "56/56 - 34s - loss: 0.1878 - accuracy: 0.9410 - val_loss: 0.6066 - val_accuracy: 0.8180\n",
            "Epoch 9/50\n",
            "56/56 - 34s - loss: 0.0496 - accuracy: 0.9888 - val_loss: 0.7093 - val_accuracy: 0.7910\n",
            "Epoch 10/50\n",
            "56/56 - 34s - loss: 0.0182 - accuracy: 0.9972 - val_loss: 0.6005 - val_accuracy: 0.8449\n",
            "Epoch 11/50\n",
            "56/56 - 34s - loss: 0.0189 - accuracy: 0.9955 - val_loss: 0.7574 - val_accuracy: 0.8157\n",
            "Epoch 12/50\n",
            "56/56 - 34s - loss: 0.0105 - accuracy: 0.9994 - val_loss: 0.7032 - val_accuracy: 0.8270\n",
            "Epoch 13/50\n",
            "56/56 - 34s - loss: 0.0033 - accuracy: 1.0000 - val_loss: 0.6621 - val_accuracy: 0.8562\n",
            "Epoch 14/50\n",
            "56/56 - 34s - loss: 0.0027 - accuracy: 1.0000 - val_loss: 0.7005 - val_accuracy: 0.8494\n",
            "Epoch 15/50\n",
            "56/56 - 34s - loss: 0.0014 - accuracy: 1.0000 - val_loss: 0.6491 - val_accuracy: 0.8764\n",
            "Epoch 16/50\n",
            "56/56 - 34s - loss: 9.5536e-04 - accuracy: 1.0000 - val_loss: 0.6471 - val_accuracy: 0.8787\n",
            "Epoch 17/50\n",
            "56/56 - 34s - loss: 6.5632e-04 - accuracy: 1.0000 - val_loss: 0.6191 - val_accuracy: 0.8876\n",
            "Epoch 18/50\n",
            "56/56 - 34s - loss: 6.9220e-04 - accuracy: 1.0000 - val_loss: 0.6220 - val_accuracy: 0.8921\n",
            "Epoch 19/50\n",
            "56/56 - 34s - loss: 6.4776e-04 - accuracy: 1.0000 - val_loss: 0.6743 - val_accuracy: 0.8764\n",
            "Epoch 20/50\n",
            "56/56 - 34s - loss: 4.9225e-04 - accuracy: 1.0000 - val_loss: 0.6420 - val_accuracy: 0.8921\n",
            "Epoch 21/50\n",
            "56/56 - 34s - loss: 3.6773e-04 - accuracy: 1.0000 - val_loss: 0.6326 - val_accuracy: 0.8989\n",
            "Epoch 22/50\n",
            "56/56 - 34s - loss: 3.8608e-04 - accuracy: 1.0000 - val_loss: 0.6776 - val_accuracy: 0.8899\n",
            "Epoch 23/50\n",
            "56/56 - 34s - loss: 3.4963e-04 - accuracy: 1.0000 - val_loss: 0.7344 - val_accuracy: 0.8742\n",
            "Epoch 24/50\n",
            "56/56 - 34s - loss: 5.9189e-04 - accuracy: 1.0000 - val_loss: 0.7067 - val_accuracy: 0.8719\n",
            "Epoch 25/50\n",
            "56/56 - 34s - loss: 3.8940e-04 - accuracy: 1.0000 - val_loss: 0.6740 - val_accuracy: 0.8854\n",
            "Epoch 26/50\n",
            "56/56 - 34s - loss: 2.4763e-04 - accuracy: 1.0000 - val_loss: 0.6692 - val_accuracy: 0.8921\n",
            "Epoch 27/50\n",
            "56/56 - 34s - loss: 2.0547e-04 - accuracy: 1.0000 - val_loss: 0.6728 - val_accuracy: 0.8989\n",
            "Epoch 28/50\n",
            "56/56 - 34s - loss: 2.9541e-04 - accuracy: 1.0000 - val_loss: 0.6721 - val_accuracy: 0.9056\n",
            "\n",
            "The accuracy of the training set and the validation set has reached > 90%!\n"
          ]
        }
      ]
    },
    {
      "cell_type": "code",
      "metadata": {
        "colab": {
          "base_uri": "https://localhost:8080/",
          "height": 573
        },
        "id": "FGSIvFCuhTau",
        "outputId": "a5cee4b4-6973-464f-e002-4191790d83ce"
      },
      "source": [
        "plt.plot(history.history['accuracy'])\n",
        "plt.plot(history.history['val_accuracy'])\n",
        "plt.title('Akurasi Model')\n",
        "plt.ylabel('accuracy')\n",
        "plt.xlabel('epoch')\n",
        "plt.legend(['train', 'test'], loc='upper left')\n",
        "plt.show()\n",
        "\n",
        "plt.plot(history.history['loss'])\n",
        "plt.plot(history.history['val_loss'])\n",
        "plt.title('Loss Model')\n",
        "plt.ylabel('loss')\n",
        "plt.xlabel('epoch')\n",
        "plt.legend(['train', 'test'], loc='upper left')\n",
        "plt.show()"
      ],
      "execution_count": 27,
      "outputs": [
        {
          "output_type": "display_data",
          "data": {
            "image/png": "[encoded data removed]",
            "text/plain": [
              "<Figure size 432x288 with 1 Axes>"
            ]
          },
          "metadata": {
            "needs_background": "light"
          }
        },
        {
          "output_type": "display_data",
          "data": {
            "image/png": "[encoded data removed]",
            "text/plain": [
              "<Figure size 432x288 with 1 Axes>"
            ]
          },
          "metadata": {
            "needs_background": "light"
          }
        }
      ]
    }
  ]
}